{
 "cells": [
  {
   "cell_type": "code",
   "execution_count": 2,
   "metadata": {},
   "outputs": [
    {
     "name": "stdout",
     "output_type": "stream",
     "text": [
      "Name: Qamar Zaman\n",
      "Email: khanqamar278@gmail.com\n",
      "Language: Python\n",
      "Biostack Name: Genomics\n",
      "Slack Name: @Qamar\n"
     ]
    }
   ],
   "source": [
    "print(\"Name: Qamar Zaman\")\n",
    "print(\"Email: khanqamar278@gmail.com\")\n",
    "print(\"Language: Python\")\n",
    "print(\"Biostack Name: Genomics\")\n",
    "print(\"Slack Name: @Qamar\")"
   ]
  },
  {
   "cell_type": "code",
   "execution_count": null,
   "metadata": {},
   "outputs": [],
   "source": []
  }
 ],
 "metadata": {
  "kernelspec": {
   "display_name": "Python 3",
   "language": "python",
   "name": "python3"
  },
  "language_info": {
   "codemirror_mode": {
    "name": "ipython",
    "version": 3
   },
   "file_extension": ".py",
   "mimetype": "text/x-python",
   "name": "python",
   "nbconvert_exporter": "python",
   "pygments_lexer": "ipython3",
   "version": "3.8.5"
  }
 },
 "nbformat": 4,
 "nbformat_minor": 4
}
